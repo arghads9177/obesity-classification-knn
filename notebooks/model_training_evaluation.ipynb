{
 "cells": [
  {
   "cell_type": "markdown",
   "id": "34695f40-a014-4945-8dd2-042e25959e17",
   "metadata": {},
   "source": [
    "# Obesity Classification Data Science Project\n",
    "\n",
    "## Overview\n",
    "\n",
    "This project focuses on the classification of individuals based on their obesity status. The dataset used for this project contains information collected from various sources, including medical records, surveys, and self-reported data. The goal is to analyze and classify individuals into different obesity categories using the provided data.\n",
    "\n",
    "## Dataset\n",
    "\n",
    "The dataset includes the following columns:\n",
    "\n",
    "- **ID**: A unique identifier for each individual\n",
    "- **Age**: The age of the individual\n",
    "- **Gender**: The gender of the individual\n",
    "- **Height**: The height of the individual in centimeters\n",
    "- **Weight**: The weight of the individual in kilograms\n",
    "- **BMI**: The body mass index of the individual, calculated as weight divided by height squared\n",
    "- **Label**: The obesity classification of the individual, which can be one of the following:\n",
    "  - Normal Weight\n",
    "  - Overweight\n",
    "  - Obese\n",
    "  - Underweight\n",
    "\n",
    "## Objective\n",
    "\n",
    "The goal of this project is to:\n",
    "\n",
    "1. Understand and visualize the dataset.\n",
    "2. Train a classification model to accurately predict the class of obesity based on the four features.\n",
    "3. Evaluate the performance of different classification models using metrics such as accuracy, precision, recall, and F1-score.\n",
    "\n",
    "## Problem Statement\n",
    "\n",
    "1. **Model Training**:\n",
    "   - Build and train classification the model using algorithms such as:\n",
    "     - K Nearest Neighbors\n",
    "   \n",
    "2. **Model Evaluation**:\n",
    "   - Evaluate the models using appropriate classification metrics:\n",
    "     - **Accuracy**: Percentage of correctly classified instances.\n",
    "     - **Precision**: The proportion of predicted positives that are actually positive.\n",
    "     - **Recall**: The proportion of actual positives that are correctly predicted.\n",
    "     - **F1-Score**: The harmonic mean of precision and recall."
   ]
  },
  {
   "cell_type": "markdown",
   "id": "aab3e63a-cbe6-4b04-87f7-77f8e24fcc0e",
   "metadata": {},
   "source": [
    "### Load Libraries"
   ]
  },
  {
   "cell_type": "code",
   "execution_count": 24,
   "id": "5fde91f3-35f1-4068-8db8-8fa0d14d27e8",
   "metadata": {},
   "outputs": [],
   "source": [
    "# General\n",
    "import pandas as pd\n",
    "import numpy as np\n",
    "import os\n",
    "import warnings\n",
    "\n",
    "# Preprocessing\n",
    "from sklearn.model_selection import train_test_split\n",
    "from sklearn.preprocessing import StandardScaler\n",
    "\n",
    "# Model and Evaluation Metrics\n",
    "from sklearn.neighbors import KNeighborsClassifier\n",
    "from sklearn.metrics import accuracy_score, precision_score, recall_score, f1_score\n",
    "\n",
    "# Model Optimization\n",
    "from sklearn.model_selection import GridSearchCV"
   ]
  },
  {
   "cell_type": "markdown",
   "id": "cb440621-b21c-4cab-91ca-673ebd571f19",
   "metadata": {},
   "source": [
    "### Settings"
   ]
  },
  {
   "cell_type": "code",
   "execution_count": 4,
   "id": "4f476674-a946-40b7-aa78-70aa6b7eed22",
   "metadata": {},
   "outputs": [],
   "source": [
    "# Warnings\n",
    "warnings.filterwarnings(\"ignore\")\n",
    "# Path\n",
    "data_path = \"../data\"\n",
    "csv_path = os.path.join(data_path, \"obesity_cleaned.csv\")"
   ]
  },
  {
   "cell_type": "markdown",
   "id": "b73a8ecb-a682-4fc2-a6e2-fc8c686d4f36",
   "metadata": {},
   "source": [
    "### Load Data"
   ]
  },
  {
   "cell_type": "code",
   "execution_count": 5,
   "id": "484f62a8-e18a-4d88-9bc6-40a20f5fbb04",
   "metadata": {},
   "outputs": [],
   "source": [
    "df = pd.read_csv(csv_path)"
   ]
  },
  {
   "cell_type": "code",
   "execution_count": 6,
   "id": "77d1e98c-2961-40d5-874a-dc2b110a2c0f",
   "metadata": {},
   "outputs": [
    {
     "data": {
      "text/html": [
       "<div>\n",
       "<style scoped>\n",
       "    .dataframe tbody tr th:only-of-type {\n",
       "        vertical-align: middle;\n",
       "    }\n",
       "\n",
       "    .dataframe tbody tr th {\n",
       "        vertical-align: top;\n",
       "    }\n",
       "\n",
       "    .dataframe thead th {\n",
       "        text-align: right;\n",
       "    }\n",
       "</style>\n",
       "<table border=\"1\" class=\"dataframe\">\n",
       "  <thead>\n",
       "    <tr style=\"text-align: right;\">\n",
       "      <th></th>\n",
       "      <th>Age</th>\n",
       "      <th>Gender</th>\n",
       "      <th>Height</th>\n",
       "      <th>Weight</th>\n",
       "      <th>BMI</th>\n",
       "      <th>Label</th>\n",
       "    </tr>\n",
       "  </thead>\n",
       "  <tbody>\n",
       "    <tr>\n",
       "      <th>0</th>\n",
       "      <td>25</td>\n",
       "      <td>1</td>\n",
       "      <td>175</td>\n",
       "      <td>80</td>\n",
       "      <td>25.3</td>\n",
       "      <td>1</td>\n",
       "    </tr>\n",
       "    <tr>\n",
       "      <th>1</th>\n",
       "      <td>30</td>\n",
       "      <td>0</td>\n",
       "      <td>160</td>\n",
       "      <td>60</td>\n",
       "      <td>22.5</td>\n",
       "      <td>1</td>\n",
       "    </tr>\n",
       "    <tr>\n",
       "      <th>2</th>\n",
       "      <td>35</td>\n",
       "      <td>1</td>\n",
       "      <td>180</td>\n",
       "      <td>90</td>\n",
       "      <td>27.3</td>\n",
       "      <td>2</td>\n",
       "    </tr>\n",
       "    <tr>\n",
       "      <th>3</th>\n",
       "      <td>40</td>\n",
       "      <td>0</td>\n",
       "      <td>150</td>\n",
       "      <td>50</td>\n",
       "      <td>20.0</td>\n",
       "      <td>0</td>\n",
       "    </tr>\n",
       "    <tr>\n",
       "      <th>4</th>\n",
       "      <td>45</td>\n",
       "      <td>1</td>\n",
       "      <td>190</td>\n",
       "      <td>100</td>\n",
       "      <td>31.2</td>\n",
       "      <td>3</td>\n",
       "    </tr>\n",
       "  </tbody>\n",
       "</table>\n",
       "</div>"
      ],
      "text/plain": [
       "   Age  Gender  Height  Weight   BMI  Label\n",
       "0   25       1     175      80  25.3      1\n",
       "1   30       0     160      60  22.5      1\n",
       "2   35       1     180      90  27.3      2\n",
       "3   40       0     150      50  20.0      0\n",
       "4   45       1     190     100  31.2      3"
      ]
     },
     "execution_count": 6,
     "metadata": {},
     "output_type": "execute_result"
    }
   ],
   "source": [
    "# Check Data\n",
    "df.head()"
   ]
  },
  {
   "cell_type": "markdown",
   "id": "ef21f72c-e40a-4c7b-8615-d5af67e663df",
   "metadata": {},
   "source": [
    "### Preprocessing"
   ]
  },
  {
   "cell_type": "code",
   "execution_count": 7,
   "id": "92f53448-ddb7-4b09-a43e-25fb698674f9",
   "metadata": {},
   "outputs": [],
   "source": [
    "# Separate Input and Output features\n",
    "X = df.iloc[:, :-1]\n",
    "y = df.iloc[:, -1]"
   ]
  },
  {
   "cell_type": "code",
   "execution_count": 8,
   "id": "18b4dd9d-d696-4022-880a-39e89760c922",
   "metadata": {},
   "outputs": [],
   "source": [
    "# Split train and test data\n",
    "X_train, X_test, y_train, y_test = train_test_split(X, y, test_size= 0.2, random_state= 42)"
   ]
  },
  {
   "cell_type": "code",
   "execution_count": 12,
   "id": "d4316adb-123c-4a25-8ef8-2f1be96518ab",
   "metadata": {},
   "outputs": [],
   "source": [
    "# Scaling to standardize\n",
    "scaler = StandardScaler()\n",
    "X_train_s = scaler.fit_transform(X_train)\n",
    "X_test_s = scaler.transform(X_test)"
   ]
  },
  {
   "cell_type": "markdown",
   "id": "546acab4-5ab8-4492-b7a1-d513b064329a",
   "metadata": {},
   "source": [
    "### Model Training and Evaluation"
   ]
  },
  {
   "cell_type": "code",
   "execution_count": 21,
   "id": "2e3297b2-d5fa-4c5c-a543-8c2de78583ff",
   "metadata": {},
   "outputs": [],
   "source": [
    "# Define a function to train and evaluate a model\n",
    "def train_evaluate(model):\n",
    "    # Train the model\n",
    "    model.fit(X_train_s, y_train)\n",
    "\n",
    "    # Predict train and test with trained model\n",
    "    y_train_pred = model.predict(X_train_s)\n",
    "    y_test_pred = model.predict(X_test_s)\n",
    "\n",
    "    # Print Evaluation Metrics\n",
    "    print(\"=\" * 60)\n",
    "    print(\"EVALUATION OF TRAIN\")\n",
    "    print(\"=\" * 60)\n",
    "    print(f\"Accuracy: {accuracy_score(y_train, y_train_pred): 0.3f}\")\n",
    "    print(f\"Precision: {precision_score(y_train, y_train_pred, average= 'weighted'): 0.3f}\")\n",
    "    print(f\"Recall: {recall_score(y_train, y_train_pred, average= 'weighted'): 0.3f}\")\n",
    "    print(f\"F1: {f1_score(y_train, y_train_pred, average= 'weighted'): 0.3f}\")\n",
    "    print(\"=\" * 60)\n",
    "    print(\"EVALUATION OF TEST\")\n",
    "    print(\"=\" * 60)\n",
    "    print(f\"Accuracy: {accuracy_score(y_test, y_test_pred): 0.3f}\")\n",
    "    print(f\"Precision: {precision_score(y_test, y_test_pred, average= 'weighted'): 0.3f}\")\n",
    "    print(f\"Recall: {recall_score(y_test, y_test_pred, average= 'weighted'): 0.3f}\")\n",
    "    print(f\"F1: {f1_score(y_test, y_test_pred, average= 'weighted'): 0.3f}\")"
   ]
  },
  {
   "cell_type": "code",
   "execution_count": 22,
   "id": "3f3de2c9-33d7-41c1-92df-b63c0358636b",
   "metadata": {},
   "outputs": [
    {
     "name": "stdout",
     "output_type": "stream",
     "text": [
      "============================================================\n",
      "EVALUATION OF TRAIN\n",
      "============================================================\n",
      "Accuracy:  0.907\n",
      "Precision:  0.912\n",
      "Recall:  0.907\n",
      "F1:  0.908\n",
      "============================================================\n",
      "EVALUATION OF TEST\n",
      "============================================================\n",
      "Accuracy:  0.864\n",
      "Precision:  0.882\n",
      "Recall:  0.864\n",
      "F1:  0.868\n"
     ]
    }
   ],
   "source": [
    "# Try KNN Classifier\n",
    "knn = KNeighborsClassifier()\n",
    "train_evaluate(knn)"
   ]
  },
  {
   "cell_type": "markdown",
   "id": "f4abdfe6-a240-4248-b5a0-413be31de105",
   "metadata": {},
   "source": [
    "### Insights\n",
    "\n",
    "The evaluation metrics for the KNN classifier on the Obesity classification task show good overall performance, especially in terms of generalization to the testing data. Here’s a detailed analysis:\n",
    "\n",
    "#### Training Metrics (High scores):\n",
    "\n",
    "- **Accuracy (0.91)**: The model correctly classifies **90.7%** of the training data. This indicates that the model has learned the patterns in the training data well.\n",
    "- **Precision (0.91)**: The model is highly precise on the training data, correctly identifying **91.2%** of the people predicted to have obesity as actual positives. This means the model is making very few false positive predictions.\n",
    "- **Recall (0.91)**: The recall of **90.7%** indicates that the model is correctly identifying **91%** of the actual label of obesity. However, some cases are missed, it is still good.\n",
    "- **F1 Score (0.91)**: The F1 score, which balances precision and recall, is **90.8%**, indicating solid performance.\n",
    "\n",
    "#### Testing Metrics (Slightly lower):\n",
    "\n",
    "- **Accuracy (0.86)**: The model correctly classifies **86.4%** of the testing data, a good performance. This suggests the model generalizes well to unseen data. But the difference from the training accuracy is showing slightly overfitting.\n",
    "- **Precision (0.88)**: Precision is  **88.2%** on the test data, meaning that it correctly identifies the labels of obesity for most cases.\n",
    "- **Recall (0.86)**: The recall on the test set is **86.4%**, meaning the model correctly identifies **86.4%** of the actual actual obesity.\n",
    "- **F1 Score (0.87)**: The F1 score on the test data is **86.8.%**, reflecting a well-balanced model that handles both precision and recall well.\n",
    "\n",
    "#### Analysis of Performance:\n",
    "\n",
    "- **Overfitting:** The model’s testing performance is slightly lower than the training performance. This suggests that the model may be overfitted. This is may be due to imbalance in dataset.\n",
    "- **F1 Score Balance:** The F1 score, which balances precision and recall, is quite high in both training (**0.88**) and testing (**0.87**). The high F1 score suggests that the model's trade-off between precision and recall is more favorable when generalized to unseen data."
   ]
  },
  {
   "cell_type": "markdown",
   "id": "9901e9d0-0e94-4c7a-ada9-f223932148b9",
   "metadata": {},
   "source": [
    "### Model Optimization"
   ]
  },
  {
   "cell_type": "code",
   "execution_count": 25,
   "id": "89325521-7c29-4bc0-8788-2deb48e48811",
   "metadata": {},
   "outputs": [],
   "source": [
    "# Define a function for Hyperparameter Tuning\n",
    "def tune_hyperparameter(model, param_dict):\n",
    "    # Define Tuner\n",
    "    tuner = GridSearchCV(\n",
    "        model,\n",
    "        param_grid= param_dict,\n",
    "        verbose= 2,\n",
    "        cv= 5\n",
    "    )\n",
    "    # Train the tuner\n",
    "    tuner.fit(X, y)\n",
    "    # Find best parameters and best score\n",
    "    best_params = tuner.best_params_\n",
    "    print(f\"Best Accuracy: {tuner.best_score_}\")\n",
    "\n",
    "    return best_params"
   ]
  },
  {
   "cell_type": "code",
   "execution_count": 30,
   "id": "b268bda8-1cfd-42a8-9ed5-462505af75f1",
   "metadata": {},
   "outputs": [
    {
     "name": "stdout",
     "output_type": "stream",
     "text": [
      "Fitting 5 folds for each of 10 candidates, totalling 50 fits\n",
      "[CV] END .....................n_neighbors=5, weights=uniform; total time=   0.0s\n",
      "[CV] END .....................n_neighbors=5, weights=uniform; total time=   0.0s\n",
      "[CV] END .....................n_neighbors=5, weights=uniform; total time=   0.0s\n",
      "[CV] END .....................n_neighbors=5, weights=uniform; total time=   0.0s\n",
      "[CV] END .....................n_neighbors=5, weights=uniform; total time=   0.0s\n",
      "[CV] END ....................n_neighbors=5, weights=distance; total time=   0.0s\n",
      "[CV] END ....................n_neighbors=5, weights=distance; total time=   0.0s\n",
      "[CV] END ....................n_neighbors=5, weights=distance; total time=   0.0s\n",
      "[CV] END ....................n_neighbors=5, weights=distance; total time=   0.0s\n",
      "[CV] END ....................n_neighbors=5, weights=distance; total time=   0.0s\n",
      "[CV] END .....................n_neighbors=7, weights=uniform; total time=   0.0s\n",
      "[CV] END .....................n_neighbors=7, weights=uniform; total time=   0.0s\n",
      "[CV] END .....................n_neighbors=7, weights=uniform; total time=   0.0s\n",
      "[CV] END .....................n_neighbors=7, weights=uniform; total time=   0.0s\n",
      "[CV] END .....................n_neighbors=7, weights=uniform; total time=   0.0s\n",
      "[CV] END ....................n_neighbors=7, weights=distance; total time=   0.0s\n",
      "[CV] END ....................n_neighbors=7, weights=distance; total time=   0.0s\n",
      "[CV] END ....................n_neighbors=7, weights=distance; total time=   0.0s\n",
      "[CV] END ....................n_neighbors=7, weights=distance; total time=   0.0s\n",
      "[CV] END ....................n_neighbors=7, weights=distance; total time=   0.0s\n",
      "[CV] END .....................n_neighbors=9, weights=uniform; total time=   0.0s\n",
      "[CV] END .....................n_neighbors=9, weights=uniform; total time=   0.0s\n",
      "[CV] END .....................n_neighbors=9, weights=uniform; total time=   0.0s\n",
      "[CV] END .....................n_neighbors=9, weights=uniform; total time=   0.0s\n",
      "[CV] END .....................n_neighbors=9, weights=uniform; total time=   0.0s\n",
      "[CV] END ....................n_neighbors=9, weights=distance; total time=   0.0s\n",
      "[CV] END ....................n_neighbors=9, weights=distance; total time=   0.0s\n",
      "[CV] END ....................n_neighbors=9, weights=distance; total time=   0.0s\n",
      "[CV] END ....................n_neighbors=9, weights=distance; total time=   0.0s\n",
      "[CV] END ....................n_neighbors=9, weights=distance; total time=   0.0s\n",
      "[CV] END ....................n_neighbors=11, weights=uniform; total time=   0.0s\n",
      "[CV] END ....................n_neighbors=11, weights=uniform; total time=   0.0s\n",
      "[CV] END ....................n_neighbors=11, weights=uniform; total time=   0.0s\n",
      "[CV] END ....................n_neighbors=11, weights=uniform; total time=   0.0s\n",
      "[CV] END ....................n_neighbors=11, weights=uniform; total time=   0.0s\n",
      "[CV] END ...................n_neighbors=11, weights=distance; total time=   0.0s\n",
      "[CV] END ...................n_neighbors=11, weights=distance; total time=   0.0s\n",
      "[CV] END ...................n_neighbors=11, weights=distance; total time=   0.0s\n",
      "[CV] END ...................n_neighbors=11, weights=distance; total time=   0.0s\n",
      "[CV] END ...................n_neighbors=11, weights=distance; total time=   0.0s\n",
      "[CV] END ....................n_neighbors=13, weights=uniform; total time=   0.0s\n",
      "[CV] END ....................n_neighbors=13, weights=uniform; total time=   0.0s\n",
      "[CV] END ....................n_neighbors=13, weights=uniform; total time=   0.0s\n",
      "[CV] END ....................n_neighbors=13, weights=uniform; total time=   0.0s\n",
      "[CV] END ....................n_neighbors=13, weights=uniform; total time=   0.0s\n",
      "[CV] END ...................n_neighbors=13, weights=distance; total time=   0.0s\n",
      "[CV] END ...................n_neighbors=13, weights=distance; total time=   0.0s\n",
      "[CV] END ...................n_neighbors=13, weights=distance; total time=   0.0s\n",
      "[CV] END ...................n_neighbors=13, weights=distance; total time=   0.0s\n",
      "[CV] END ...................n_neighbors=13, weights=distance; total time=   0.0s\n",
      "Best Accuracy: 0.8138528138528139\n",
      "Best Parameter set: {'n_neighbors': 9, 'weights': 'distance'}\n"
     ]
    }
   ],
   "source": [
    "# Hyperparameter tuning for KNN Classifier\n",
    "\n",
    "# Define parameter dictionary\n",
    "param_dict = {\n",
    "    \"n_neighbors\": [5, 7, 9, 11, 13],\n",
    "    \"weights\": [\"uniform\", \"distance\"]\n",
    "}\n",
    "\n",
    "# Define KNN Classifier model\n",
    "knn_ht = KNeighborsClassifier()\n",
    "\n",
    "# Tune parameter\n",
    "best_params = tune_hyperparameter(knn_ht, param_dict)\n",
    "print(f\"Best Parameter set: {best_params}\")"
   ]
  },
  {
   "cell_type": "code",
   "execution_count": 31,
   "id": "754a0535-c1b8-4d11-801e-c7384fdc2bc3",
   "metadata": {},
   "outputs": [
    {
     "name": "stdout",
     "output_type": "stream",
     "text": [
      "============================================================\n",
      "EVALUATION OF TRAIN\n",
      "============================================================\n",
      "Accuracy:  1.000\n",
      "Precision:  1.000\n",
      "Recall:  1.000\n",
      "F1:  1.000\n",
      "============================================================\n",
      "EVALUATION OF TEST\n",
      "============================================================\n",
      "Accuracy:  0.955\n",
      "Precision:  0.961\n",
      "Recall:  0.955\n",
      "F1:  0.955\n"
     ]
    }
   ],
   "source": [
    "# Train the model with best parameters and check evaluation metrics\n",
    "model = KNeighborsClassifier(**best_params)\n",
    "train_evaluate(model)"
   ]
  },
  {
   "cell_type": "markdown",
   "id": "59e53656-0889-4067-ac88-e94196561201",
   "metadata": {},
   "source": [
    "### Conclussion\n",
    "\n",
    "After hyperparameter tuning, the KNN classifier for Obesity classification shows significant improvements across both training and testing metrics. Let's discuss the metrics,\n",
    "\n",
    "#### Training Metrics:\n",
    "\n",
    "- **Accuracy (1.0)**: The model correctly classifies **100%** of the training data, indicating a perfect fit to the training set.\n",
    "- **Precision (1.0)**: All predicted positive instances(Obesity labels) in the training data are actually positive.\n",
    "- **Recall (1.0)**: Recall has improved significantly compared to the default configuration, indicating that the model is now correctly identifying all(**100%**) of actual positive cases (obesity labels), which is crucial for minimizing false negatives.\n",
    "- **F1 Score (1.0)**: The F1 score, a balance between precision and recall, is perfect **100%**, reflecting the model's strong overall performance in identifying positive cases with few false positives and false negatives.\n",
    "\n",
    "#### Testing Metrics (Improved performance):\n",
    "\n",
    "- **Accuracy (0.96)**: The model achieves **95.5%** accuracy on the test data, which is a very strong result and shows good generalization to unseen data.\n",
    "- **Precision (0.96)**: Similar to the training set, the precision on the test set is very high, meaning the model is making highly reliable positive predictions with a very few false positives.\n",
    "- **Recall (0.96)**: The recall on the test set is **95.5%**, showing that the model identifies most of the actual positive cases in the test set, though a small percentage of cases may still go undetected (false negatives).\n",
    "**F1 Score (0.96)**: The F1 score on the test set is **95.5%**, indicating that the model performs well in balancing precision and recall, even on unseen data.\n",
    "\n",
    "#### Summary\n",
    "\n",
    "- **Improved Performance:** Compared to the previous results, all metrics have been improved on both the training and testing datasets. This means the model is now identifying a higher proportion of true positives, which is essential in obesity detection. Fewer cases are being missed.\n",
    "\n",
    "- **Generalization to Unseen Data:** The testing performance closely mirrors the training performance. This suggests that the model generalizes well to new, unseen data, avoiding overfitting and maintaining high predictive power."
   ]
  },
  {
   "cell_type": "code",
   "execution_count": null,
   "id": "79a74c5f-ddd8-4e29-b4ee-6f34309e1b56",
   "metadata": {},
   "outputs": [],
   "source": []
  }
 ],
 "metadata": {
  "kernelspec": {
   "display_name": "Python 3 (ipykernel)",
   "language": "python",
   "name": "python3"
  },
  "language_info": {
   "codemirror_mode": {
    "name": "ipython",
    "version": 3
   },
   "file_extension": ".py",
   "mimetype": "text/x-python",
   "name": "python",
   "nbconvert_exporter": "python",
   "pygments_lexer": "ipython3",
   "version": "3.11.9"
  },
  "widgets": {
   "application/vnd.jupyter.widget-state+json": {
    "state": {},
    "version_major": 2,
    "version_minor": 0
   }
  }
 },
 "nbformat": 4,
 "nbformat_minor": 5
}
